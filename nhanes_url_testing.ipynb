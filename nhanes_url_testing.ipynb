{
 "cells": [
  {
   "cell_type": "markdown",
   "id": "56a4cd87",
   "metadata": {},
   "source": [
    "# NHANES URL Pattern Testing Tool\n",
    "\n",
    "This notebook provides diagnostic tools to test various URL patterns for accessing NHANES data files across different survey cycles. Use this to verify access patterns and troubleshoot specific components."
   ]
  },
  {
   "cell_type": "code",
   "execution_count": null,
   "id": "c16ac0be",
   "metadata": {},
   "outputs": [],
   "source": [
    "import pandas as pd\n",
    "import requests\n",
    "import io\n",
    "from typing import List, Dict\n",
    "import time\n",
    "\n",
    "# Configure display options\n",
    "pd.set_option('display.max_rows', 100)\n",
    "pd.set_option('display.max_columns', 20)\n",
    "pd.set_option('display.width', 1000)"
   ]
  },
  {
   "cell_type": "markdown",
   "id": "7aea7f19",
   "metadata": {},
   "source": [
    "## URL Pattern Tester Functions"
   ]
  },
  {
   "cell_type": "code",
   "execution_count": null,
   "id": "460c1b88",
   "metadata": {},
   "outputs": [],
   "source": [
    "def test_url(url: str, timeout: int = 10) -> Dict:\n",
    "    \"\"\"Test a single URL and return status information.\"\"\"\n",
    "    start_time = time.time()\n",
    "    try:\n",
    "        response = requests.get(url, timeout=timeout)\n",
    "        elapsed = time.time() - start_time\n",
    "        \n",
    "        result = {\n",
    "            \"url\": url,\n",
    "            \"status_code\": response.status_code,\n",
    "            \"time\": f\"{elapsed:.2f}s\",\n",
    "            \"size\": f\"{len(response.content)/1024:.1f} KB\" if response.status_code == 200 else \"N/A\",\n",
    "            \"success\": response.status_code == 200\n",
    "        }\n",
    "        \n",
    "        if response.status_code == 200:\n",
    "            try:\n",
    "                # Try to parse as XPT file\n",
    "                df = pd.read_sas(io.BytesIO(response.content), format='xport')\n",
    "                result[\"rows\"] = len(df)\n",
    "                result[\"columns\"] = len(df.columns)\n",
    "                result[\"first_cols\"] = list(df.columns)[:5]\n",
    "            except Exception as e:\n",
    "                result[\"parse_error\"] = str(e)\n",
    "        \n",
    "        return result\n",
    "    except Exception as e:\n",
    "        return {\"url\": url, \"status_code\": \"Error\", \"error\": str(e), \"success\": False}\n",
    "\n",
    "def generate_url_patterns(cycle: str, component: str, letter: str = None) -> List[str]:\n",
    "    \"\"\"Generate different URL patterns for a cycle/component to test.\"\"\"\n",
    "    # If letter is not provided, try to determine from cycle\n",
    "    if letter is None:\n",
    "        cycle_letter_map = {\n",
    "            '2021-2022': 'L',\n",
    "            '2017-2018': 'J',\n",
    "            '2015-2016': 'I',\n",
    "            '2013-2014': 'H',\n",
    "            '2011-2012': 'G',\n",
    "            '2009-2010': 'F',\n",
    "            '2007-2008': 'E',\n",
    "            '2005-2006': 'D',\n",
    "            '2003-2004': 'C',\n",
    "            '2001-2002': 'B',\n",
    "            '1999-2000': 'A'\n",
    "        }\n",
    "        letter = cycle_letter_map.get(cycle, '')\n",
    "    \n",
    "    cycle_year = cycle.split('-')[0] if '-' in cycle else cycle\n",
    "    \n",
    "    patterns = [\n",
    "        # 2021+ pattern with Public subdirectory\n",
    "        f\"https://wwwn.cdc.gov/Nchs/Data/Nhanes/Public/{cycle_year}/DataFiles/{component}_{letter}.xpt\",\n",
    "        # Standard pattern (2007-2018)\n",
    "        f\"https://wwwn.cdc.gov/Nchs/Nhanes/{cycle}/{component}_{letter}.XPT\",\n",
    "        # Lowercase variant\n",
    "        f\"https://wwwn.cdc.gov/Nchs/Nhanes/{cycle}/{component}_{letter}.xpt\",\n",
    "        # Pre-2007 pattern (lowercase component)\n",
    "        f\"https://wwwn.cdc.gov/Nchs/Nhanes/{cycle}/{component.lower()}_{letter}.XPT\",\n",
    "        # Pre-2007 pattern (lowercase component and extension)\n",
    "        f\"https://wwwn.cdc.gov/Nchs/Nhanes/{cycle}/{component.lower()}_{letter}.xpt\",\n",
    "        # Alternative Data/Nhanes path\n",
    "        f\"https://wwwn.cdc.gov/Nchs/Data/Nhanes/{cycle}/{component}_{letter}.XPT\",\n",
    "        # Variant with cycle year suffix\n",
    "        f\"https://wwwn.cdc.gov/Nchs/Nhanes/{cycle}/{component}_{cycle[-2:]}.XPT\",\n",
    "    ]\n",
    "    \n",
    "    return patterns\n",
    "\n",
    "def test_all_patterns(cycle: str, component: str, letter: str = None) -> pd.DataFrame:\n",
    "    \"\"\"Test all URL patterns for a given cycle/component and return results as DataFrame.\"\"\"\n",
    "    patterns = generate_url_patterns(cycle, component, letter)\n",
    "    results = []\n",
    "    \n",
    "    print(f\"Testing {len(patterns)} URL patterns for {cycle} {component}...\")\n",
    "    for url in patterns:\n",
    "        print(f\"Testing: {url}\")\n",
    "        result = test_url(url)\n",
    "        results.append(result)\n",
    "        if result[\"success\"]:\n",
    "            print(f\"✓ SUCCESS! Found working URL pattern\")\n",
    "        else:\n",
    "            print(f\"✗ Failed with status {result['status_code']}\")\n",
    "    \n",
    "    # Convert results to DataFrame\n",
    "    df = pd.DataFrame(results)\n",
    "    return df"
   ]
  },
  {
   "cell_type": "markdown",
   "id": "da00656f",
   "metadata": {},
   "source": [
    "## Test Specific Cycles and Components"
   ]
  },
  {
   "cell_type": "code",
   "execution_count": null,
   "id": "7c12e59d",
   "metadata": {},
   "outputs": [],
   "source": [
    "# Test demographics for 2021-2022 cycle (newest)\n",
    "demo_2021_results = test_all_patterns('2021-2022', 'DEMO', 'L')\n",
    "demo_2021_results[['url', 'status_code', 'success', 'size']]"
   ]
  },
  {
   "cell_type": "code",
   "execution_count": null,
   "id": "1f761d75",
   "metadata": {},
   "outputs": [],
   "source": [
    "# Test demographics for 2017-2018 cycle (mid-range)\n",
    "demo_2017_results = test_all_patterns('2017-2018', 'DEMO', 'J')\n",
    "demo_2017_results[['url', 'status_code', 'success', 'size']]"
   ]
  },
  {
   "cell_type": "code",
   "execution_count": null,
   "id": "91cff3df",
   "metadata": {},
   "outputs": [],
   "source": [
    "# Test demographics for 1999-2000 cycle (oldest)\n",
    "demo_1999_results = test_all_patterns('1999-2000', 'DEMO', 'A')\n",
    "demo_1999_results[['url', 'status_code', 'success', 'size']]"
   ]
  },
  {
   "cell_type": "markdown",
   "id": "a86cb9f6",
   "metadata": {},
   "source": [
    "## Test Custom URL"
   ]
  },
  {
   "cell_type": "code",
   "execution_count": null,
   "id": "c65e9e7c",
   "metadata": {},
   "outputs": [],
   "source": [
    "def test_custom_url(url):\n",
    "    \"\"\"Test a single custom URL and display detailed results.\"\"\"\n",
    "    result = test_url(url)\n",
    "    \n",
    "    print(f\"URL: {result['url']}\")\n",
    "    print(f\"Status: {result['status_code']}\")\n",
    "    print(f\"Success: {result['success']}\")\n",
    "    \n",
    "    if result['success']:\n",
    "        print(f\"Size: {result['size']}\")\n",
    "        print(f\"Rows: {result.get('rows', 'N/A')}\")\n",
    "        print(f\"Columns: {result.get('columns', 'N/A')}\")\n",
    "        print(f\"First few columns: {result.get('first_cols', 'N/A')}\")\n",
    "    else:\n",
    "        print(f\"Error: {result.get('error', 'Unknown error')}\")\n",
    "    \n",
    "    return result"
   ]
  },
  {
   "cell_type": "code",
   "execution_count": null,
   "id": "62d4f4f3",
   "metadata": {},
   "outputs": [],
   "source": [
    "# Test a specific URL that you want to verify\n",
    "test_custom_url(\"https://wwwn.cdc.gov/Nchs/Data/Nhanes/Public/2021/DataFiles/DEMO_L.xpt\")"
   ]
  },
  {
   "cell_type": "markdown",
   "id": "b5c310ff",
   "metadata": {},
   "source": [
    "## Test Multiple Components for a Cycle"
   ]
  },
  {
   "cell_type": "code",
   "execution_count": null,
   "id": "d11e3cc5",
   "metadata": {},
   "outputs": [],
   "source": [
    "def test_cycle_components(cycle, components):\n",
    "    \"\"\"Test multiple components for a specific cycle and show working URLs.\"\"\"\n",
    "    cycle_letter_map = {\n",
    "        '2021-2022': 'L',\n",
    "        '2019-2020': 'K',\n",
    "        '2017-2018': 'J',\n",
    "        '2015-2016': 'I',\n",
    "        '2013-2014': 'H',\n",
    "        '2011-2012': 'G',\n",
    "        '2009-2010': 'F',\n",
    "        '2007-2008': 'E',\n",
    "        '2005-2006': 'D',\n",
    "        '2003-2004': 'C',\n",
    "        '2001-2002': 'B',\n",
    "        '1999-2000': 'A'\n",
    "    }\n",
    "    letter = cycle_letter_map.get(cycle, '')\n",
    "    \n",
    "    results = []\n",
    "    for component in components:\n",
    "        patterns = generate_url_patterns(cycle, component, letter)\n",
    "        component_results = {\"component\": component, \"success\": False, \"working_url\": None}\n",
    "        \n",
    "        for url in patterns:\n",
    "            try:\n",
    "                response = requests.head(url, timeout=10)\n",
    "                if response.status_code == 200:\n",
    "                    component_results[\"success\"] = True\n",
    "                    component_results[\"working_url\"] = url\n",
    "                    break\n",
    "            except:\n",
    "                continue\n",
    "                \n",
    "        results.append(component_results)\n",
    "    \n",
    "    return pd.DataFrame(results)"
   ]
  },
  {
   "cell_type": "code",
   "execution_count": null,
   "id": "7e6f4901",
   "metadata": {},
   "outputs": [],
   "source": [
    "components = ['DEMO', 'BMX', 'BPX', 'TCHOL', 'GLU', 'DR1TOT', 'PAQ', 'SMQ', 'ALQ']\n",
    "\n",
    "# Test newest cycle components\n",
    "test_cycle_components('2021-2022', components)"
   ]
  },
  {
   "cell_type": "code",
   "execution_count": null,
   "id": "db81d6ad",
   "metadata": {},
   "outputs": [],
   "source": [
    "# Test older cycle components\n",
    "test_cycle_components('1999-2000', components)"
   ]
  },
  {
   "cell_type": "markdown",
   "id": "67b72bee",
   "metadata": {},
   "source": [
    "## URL Pattern Summary"
   ]
  },
  {
   "cell_type": "code",
   "execution_count": null,
   "id": "0cf1538e",
   "metadata": {},
   "outputs": [],
   "source": [
    "def summarize_url_patterns():\n",
    "    \"\"\"Print a summary of URL patterns that work for different NHANES cycle ranges\"\"\"\n",
    "    summary = [\n",
    "        {\"cycle_range\": \"2021-present\", \n",
    "         \"example\": \"2021-2022\",\n",
    "         \"pattern\": \"https://wwwn.cdc.gov/Nchs/Data/Nhanes/Public/{YEAR}/DataFiles/{COMPONENT}_{LETTER}.xpt\",\n",
    "         \"notes\": \"Newest format with Public subdirectory and lowercase xpt extension\"},\n",
    "        \n",
    "        {\"cycle_range\": \"2007-2018\", \n",
    "         \"example\": \"2017-2018\",\n",
    "         \"pattern\": \"https://wwwn.cdc.gov/Nchs/Nhanes/{CYCLE}/{COMPONENT}_{LETTER}.XPT\",\n",
    "         \"notes\": \"Standard format with uppercase XPT extension\"},\n",
    "        \n",
    "        {\"cycle_range\": \"1999-2006\", \n",
    "         \"example\": \"1999-2000\",\n",
    "         \"pattern\": \"https://wwwn.cdc.gov/Nchs/Nhanes/{CYCLE}/{component_lower}_{LETTER}.xpt\",\n",
    "         \"notes\": \"Older format often uses lowercase component names\"}\n",
    "    ]\n",
    "    \n",
    "    return pd.DataFrame(summary)"
   ]
  },
  {
   "cell_type": "code",
   "execution_count": null,
   "id": "ded877ce",
   "metadata": {},
   "outputs": [],
   "source": [
    "summarize_url_patterns()"
   ]
  },
  {
   "cell_type": "markdown",
   "id": "d1081b17",
   "metadata": {},
   "source": [
    "## Integration Test with PopHealth Observatory"
   ]
  },
  {
   "cell_type": "code",
   "execution_count": null,
   "id": "93da3187",
   "metadata": {},
   "outputs": [],
   "source": [
    "from pophealth_observatory import NHANESExplorer\n",
    "\n",
    "# Create instance of explorer\n",
    "explorer = NHANESExplorer()\n",
    "\n",
    "# Test various cycles\n",
    "cycles_to_test = ['2021-2022', '2017-2018', '1999-2000']\n",
    "\n",
    "for cycle in cycles_to_test:\n",
    "    print(f\"\\n======= Testing {cycle} =======\\n\")\n",
    "    \n",
    "    # Test demographics\n",
    "    print(f\"Testing demographics for {cycle}...\")\n",
    "    demo_df = explorer.get_demographics_data(cycle)\n",
    "    print(f\"Got demographics with {len(demo_df)} rows and {len(demo_df.columns)} columns\\n\")\n",
    "    \n",
    "    # Test body measures\n",
    "    print(f\"Testing body measures for {cycle}...\")\n",
    "    body_df = explorer.get_body_measures(cycle)\n",
    "    print(f\"Got body measures with {len(body_df)} rows and {len(body_df.columns)} columns\\n\")"
   ]
  }
 ],
 "metadata": {
  "language_info": {
   "name": "python"
  }
 },
 "nbformat": 4,
 "nbformat_minor": 5
}
