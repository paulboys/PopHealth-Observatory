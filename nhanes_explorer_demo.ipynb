{
 "cells": [
  {
   "cell_type": "markdown",
   "id": "ac1509e4",
   "metadata": {},
   "source": [
    "# NHANES Data Explorer\n",
    "## A comprehensive tool for exploring health and nutrition metrics from NHANES data\n",
    "\n",
    "This notebook demonstrates how to use the NHANESExplorer class to download, process, and analyze data from the National Health and Nutrition Examination Survey (NHANES). The explorer provides tools to analyze health metrics across different demographic groups and survey cycles."
   ]
  },
  {
   "cell_type": "markdown",
   "id": "9268fb6c",
   "metadata": {},
   "source": [
    "## 1. Import Required Libraries"
   ]
  },
  {
   "cell_type": "code",
   "execution_count": null,
   "id": "600558cb",
   "metadata": {},
   "outputs": [],
   "source": [
    "import pandas as pd\n",
    "import numpy as np\n",
    "import requests\n",
    "import io\n",
    "import matplotlib.pyplot as plt\n",
    "import seaborn as sns\n",
    "import plotly.express as px\n",
    "import plotly.graph_objects as go\n",
    "from typing import Dict, List, Optional, Tuple\n",
    "import ipywidgets as widgets\n",
    "from ipywidgets import interact, fixed\n",
    "import warnings\n",
    "warnings.filterwarnings('ignore')\n",
    "\n",
    "# Set plot styling\n",
    "plt.style.use('seaborn-v0_8-whitegrid')\n",
    "sns.set_palette(\"colorblind\")"
   ]
  },
  {
   "cell_type": "markdown",
   "id": "08e96f4c",
   "metadata": {},
   "source": [
    "## 2. Create NHANES Explorer Class\n",
    "\n",
    "We'll import the NHANESExplorer class from our module. If you want to see the class definition, you can find it in the `nhanes_explorer.py` file."
   ]
  },
  {
   "cell_type": "code",
   "execution_count": null,
   "id": "2ccb62bc",
   "metadata": {},
   "outputs": [],
   "source": [
    "# Import the NHANESExplorer class from our module\n",
    "from nhanes_explorer import NHANESExplorer\n",
    "\n",
    "# Initialize the explorer\n",
    "explorer = NHANESExplorer()\n",
    "\n",
    "# Display the available survey cycles and components\n",
    "print(\"Available NHANES survey cycles:\")\n",
    "print(explorer.available_cycles)\n",
    "print(\"\\nAvailable data components:\")\n",
    "for name, code in explorer.components.items():\n",
    "    print(f\"  - {name}: {code}\")"
   ]
  },
  {
   "cell_type": "markdown",
   "id": "05482ae4",
   "metadata": {},
   "source": [
    "## 3. Data Acquisition\n",
    "\n",
    "Let's download some key NHANES data components for the most recent survey cycle (2017-2018)."
   ]
  },
  {
   "cell_type": "code",
   "execution_count": null,
   "id": "792f02c4",
   "metadata": {},
   "outputs": [],
   "source": [
    "# Set the survey cycle\n",
    "cycle = '2017-2018'\n",
    "\n",
    "# Download demographics data\n",
    "demo_df = explorer.get_demographics_data(cycle)\n",
    "\n",
    "# Display the first few rows\n",
    "print(f\"Demographics data shape: {demo_df.shape}\")\n",
    "demo_df.head()"
   ]
  },
  {
   "cell_type": "code",
   "execution_count": null,
   "id": "fc885e29",
   "metadata": {},
   "outputs": [],
   "source": [
    "# Download body measurements data\n",
    "body_df = explorer.get_body_measures(cycle)\n",
    "\n",
    "# Display the first few rows\n",
    "print(f\"Body measurements data shape: {body_df.shape}\")\n",
    "body_df.head()"
   ]
  },
  {
   "cell_type": "code",
   "execution_count": null,
   "id": "3caa19fe",
   "metadata": {},
   "outputs": [],
   "source": [
    "# Download blood pressure data\n",
    "bp_df = explorer.get_blood_pressure(cycle)\n",
    "\n",
    "# Display the first few rows\n",
    "print(f\"Blood pressure data shape: {bp_df.shape}\")\n",
    "bp_df.head()"
   ]
  },
  {
   "cell_type": "markdown",
   "id": "605f3721",
   "metadata": {},
   "source": [
    "## 4. Data Processing\n",
    "\n",
    "Now let's create a merged dataset that combines demographics, body measurements, and blood pressure data."
   ]
  },
  {
   "cell_type": "code",
   "execution_count": null,
   "id": "a3328b4d",
   "metadata": {},
   "outputs": [],
   "source": [
    "# Create a merged dataset with demographics, body measurements, and blood pressure\n",
    "merged_df = explorer.create_merged_dataset(cycle)\n",
    "\n",
    "# Display column names and data types\n",
    "print(f\"Merged dataset shape: {merged_df.shape}\")\n",
    "merged_df.dtypes"
   ]
  },
  {
   "cell_type": "code",
   "execution_count": null,
   "id": "e4ee8261",
   "metadata": {},
   "outputs": [],
   "source": [
    "# Display the first few rows of the merged dataset\n",
    "merged_df.head()"
   ]
  },
  {
   "cell_type": "markdown",
   "id": "f750d5f6",
   "metadata": {},
   "source": [
    "## 5. Data Analysis\n",
    "\n",
    "Let's perform some basic analyses on the merged dataset."
   ]
  },
  {
   "cell_type": "code",
   "execution_count": null,
   "id": "d1425014",
   "metadata": {},
   "outputs": [],
   "source": [
    "# Generate a summary report\n",
    "summary_report = explorer.generate_summary_report(merged_df)\n",
    "print(summary_report)"
   ]
  },
  {
   "cell_type": "code",
   "execution_count": null,
   "id": "8cf30d71",
   "metadata": {},
   "outputs": [],
   "source": [
    "# Analyze BMI by race/ethnicity\n",
    "if 'bmi' in merged_df.columns and 'race_ethnicity_label' in merged_df.columns:\n",
    "    bmi_by_race = explorer.analyze_by_demographics(merged_df, 'bmi', 'race_ethnicity_label')\n",
    "    print(\"BMI Statistics by Race/Ethnicity:\")\n",
    "    display(bmi_by_race)"
   ]
  },
  {
   "cell_type": "code",
   "execution_count": null,
   "id": "16552220",
   "metadata": {},
   "outputs": [],
   "source": [
    "# Analyze blood pressure by gender\n",
    "if 'avg_systolic' in merged_df.columns and 'gender_label' in merged_df.columns:\n",
    "    bp_by_gender = explorer.analyze_by_demographics(merged_df, 'avg_systolic', 'gender_label')\n",
    "    print(\"Systolic Blood Pressure Statistics by Gender:\")\n",
    "    display(bp_by_gender)"
   ]
  },
  {
   "cell_type": "markdown",
   "id": "5c9798a9",
   "metadata": {},
   "source": [
    "## 6. Visualizations\n",
    "\n",
    "Let's create some visualizations to explore the data."
   ]
  },
  {
   "cell_type": "code",
   "execution_count": null,
   "id": "0f9778ae",
   "metadata": {},
   "outputs": [],
   "source": [
    "# Visualize BMI by race/ethnicity\n",
    "if 'bmi' in merged_df.columns and 'race_ethnicity_label' in merged_df.columns:\n",
    "    explorer.create_demographic_visualization(merged_df, 'bmi', 'race_ethnicity_label')"
   ]
  },
  {
   "cell_type": "code",
   "execution_count": null,
   "id": "7c92dd05",
   "metadata": {},
   "outputs": [],
   "source": [
    "# Visualize blood pressure by gender\n",
    "if 'avg_systolic' in merged_df.columns and 'gender_label' in merged_df.columns:\n",
    "    explorer.create_demographic_visualization(merged_df, 'avg_systolic', 'gender_label')"
   ]
  },
  {
   "cell_type": "code",
   "execution_count": null,
   "id": "712a6223",
   "metadata": {},
   "outputs": [],
   "source": [
    "# Visualize BMI distribution\n",
    "plt.figure(figsize=(10, 6))\n",
    "sns.histplot(merged_df['bmi'].dropna(), bins=30, kde=True)\n",
    "plt.axvline(x=18.5, color='r', linestyle='--', label='Underweight/Normal')\n",
    "plt.axvline(x=25, color='y', linestyle='--', label='Normal/Overweight')\n",
    "plt.axvline(x=30, color='g', linestyle='--', label='Overweight/Obese')\n",
    "plt.title('BMI Distribution in NHANES 2017-2018')\n",
    "plt.xlabel('BMI')\n",
    "plt.ylabel('Count')\n",
    "plt.legend()\n",
    "plt.show()"
   ]
  },
  {
   "cell_type": "code",
   "execution_count": null,
   "id": "e639f73c",
   "metadata": {},
   "outputs": [],
   "source": [
    "# Visualize BMI categories by gender\n",
    "if 'bmi_category' in merged_df.columns and 'gender_label' in merged_df.columns:\n",
    "    # Create a cross-tabulation\n",
    "    bmi_gender_crosstab = pd.crosstab(\n",
    "        merged_df['gender_label'], \n",
    "        merged_df['bmi_category'], \n",
    "        normalize='index'\n",
    "    ) * 100\n",
    "    \n",
    "    # Plot\n",
    "    plt.figure(figsize=(12, 6))\n",
    "    bmi_gender_crosstab.plot(kind='bar', stacked=True, colormap='viridis')\n",
    "    plt.title('BMI Categories by Gender')\n",
    "    plt.xlabel('Gender')\n",
    "    plt.ylabel('Percentage')\n",
    "    plt.legend(title='BMI Category')\n",
    "    plt.xticks(rotation=0)\n",
    "    for i, v in enumerate(bmi_gender_crosstab.iloc[0]):\n",
    "        plt.text(i-0.2, v/2, f\"{v:.1f}%\", color='white', fontweight='bold')\n",
    "    for i, v in enumerate(bmi_gender_crosstab.iloc[1]):\n",
    "        plt.text(i+0.05, v/2, f\"{v:.1f}%\", color='white', fontweight='bold')\n",
    "    plt.show()"
   ]
  },
  {
   "cell_type": "markdown",
   "id": "1b7b4906",
   "metadata": {},
   "source": [
    "## 7. Interactive Dashboard\n",
    "\n",
    "Let's create a simple interactive dashboard to explore the data."
   ]
  },
  {
   "cell_type": "code",
   "execution_count": null,
   "id": "c2fc19cf",
   "metadata": {},
   "outputs": [],
   "source": [
    "# Define a function to create an interactive visualization\n",
    "def interactive_analysis(metric, demographic, df=merged_df):\n",
    "    if metric not in df.columns or demographic not in df.columns:\n",
    "        print(f\"Column {metric} or {demographic} not found in dataset\")\n",
    "        return\n",
    "    \n",
    "    # Remove missing values\n",
    "    plot_df = df[[demographic, metric]].dropna()\n",
    "    \n",
    "    # Create figure with subplots\n",
    "    fig, axes = plt.subplots(1, 2, figsize=(15, 6))\n",
    "    \n",
    "    # Box plot\n",
    "    sns.boxplot(data=plot_df, x=demographic, y=metric, ax=axes[0])\n",
    "    axes[0].set_title(f'{metric} by {demographic}')\n",
    "    axes[0].tick_params(axis='x', rotation=45)\n",
    "    \n",
    "    # Bar plot of means\n",
    "    means = plot_df.groupby(demographic)[metric].mean().sort_values(ascending=False)\n",
    "    means.plot(kind='bar', ax=axes[1], color='skyblue')\n",
    "    axes[1].set_title(f'Mean {metric} by {demographic}')\n",
    "    axes[1].tick_params(axis='x', rotation=45)\n",
    "    axes[1].set_ylabel(f'Mean {metric}')\n",
    "    \n",
    "    # Add value labels to the bar plot\n",
    "    for i, v in enumerate(means):\n",
    "        axes[1].text(i, v + 0.1, f\"{v:.1f}\", ha='center')\n",
    "    \n",
    "    plt.tight_layout()\n",
    "    plt.show()\n",
    "    \n",
    "    # Display summary statistics\n",
    "    stats = plot_df.groupby(demographic)[metric].agg([\n",
    "        'count', 'mean', 'median', 'std', 'min', 'max'\n",
    "    ]).round(2)\n",
    "    stats.columns = ['Count', 'Mean', 'Median', 'Std Dev', 'Min', 'Max']\n",
    "    return stats\n",
    "\n",
    "# Create dropdown menus for metrics and demographics\n",
    "numeric_metrics = ['age_years', 'bmi', 'weight_kg', 'height_cm', 'waist_cm', 'avg_systolic', 'avg_diastolic']\n",
    "available_metrics = [m for m in numeric_metrics if m in merged_df.columns]\n",
    "\n",
    "demographics = ['gender_label', 'race_ethnicity_label']\n",
    "available_demographics = [d for d in demographics if d in merged_df.columns]\n",
    "\n",
    "# Create interactive widget\n",
    "interact(\n",
    "    interactive_analysis,\n",
    "    metric=widgets.Dropdown(options=available_metrics, description='Metric:'),\n",
    "    demographic=widgets.Dropdown(options=available_demographics, description='Demographic:'),\n",
    "    df=fixed(merged_df)\n",
    ");"
   ]
  },
  {
   "cell_type": "markdown",
   "id": "ac6372fc",
   "metadata": {},
   "source": [
    "## 8. Example Analyses\n",
    "\n",
    "Let's perform some more specific analyses on the data."
   ]
  },
  {
   "cell_type": "code",
   "execution_count": null,
   "id": "98e2b769",
   "metadata": {},
   "outputs": [],
   "source": [
    "# Analyze relationship between BMI and blood pressure\n",
    "if all(col in merged_df.columns for col in ['bmi', 'avg_systolic', 'avg_diastolic']):\n",
    "    # Create scatter plot with regression line\n",
    "    plt.figure(figsize=(10, 6))\n",
    "    sns.regplot(data=merged_df, x='bmi', y='avg_systolic', scatter_kws={'alpha':0.3}, line_kws={'color':'red'})\n",
    "    plt.title('Relationship Between BMI and Systolic Blood Pressure')\n",
    "    plt.xlabel('BMI')\n",
    "    plt.ylabel('Systolic Blood Pressure (mmHg)')\n",
    "    \n",
    "    # Calculate and display correlation coefficient\n",
    "    correlation = merged_df[['bmi', 'avg_systolic']].corr().iloc[0, 1]\n",
    "    plt.text(40, merged_df['avg_systolic'].min() + 5, f\"Correlation: {correlation:.3f}\", fontsize=12)\n",
    "    plt.show()\n",
    "    \n",
    "    # Calculate summary statistics by BMI category\n",
    "    if 'bmi_category' in merged_df.columns:\n",
    "        bp_by_bmi_category = explorer.analyze_by_demographics(merged_df, 'avg_systolic', 'bmi_category')\n",
    "        print(\"\\nBlood Pressure Statistics by BMI Category:\")\n",
    "        display(bp_by_bmi_category)"
   ]
  },
  {
   "cell_type": "code",
   "execution_count": null,
   "id": "8bf39af5",
   "metadata": {},
   "outputs": [],
   "source": [
    "# Analyze age distribution by gender and BMI category\n",
    "if all(col in merged_df.columns for col in ['age_years', 'gender_label', 'bmi_category']):\n",
    "    plt.figure(figsize=(14, 8))\n",
    "    sns.violinplot(data=merged_df, x='bmi_category', y='age_years', hue='gender_label', split=True)\n",
    "    plt.title('Age Distribution by BMI Category and Gender')\n",
    "    plt.xlabel('BMI Category')\n",
    "    plt.ylabel('Age (years)')\n",
    "    plt.legend(title='Gender')\n",
    "    plt.show()"
   ]
  },
  {
   "cell_type": "markdown",
   "id": "a82de3b0",
   "metadata": {},
   "source": [
    "## 9. Multi-cycle Analysis\n",
    "\n",
    "Let's compare some metrics across multiple NHANES cycles."
   ]
  },
  {
   "cell_type": "code",
   "execution_count": null,
   "id": "99f7dfed",
   "metadata": {},
   "outputs": [],
   "source": [
    "# Function to get mean BMI across multiple cycles\n",
    "def get_mean_bmi_by_cycle(cycles):\n",
    "    results = []\n",
    "    for cycle in cycles:\n",
    "        print(f\"Processing cycle {cycle}...\")\n",
    "        # Get body measurements data for this cycle\n",
    "        body_df = explorer.get_body_measures(cycle)\n",
    "        if not body_df.empty and 'bmi' in body_df.columns:\n",
    "            mean_bmi = body_df['bmi'].mean()\n",
    "            results.append({'cycle': cycle, 'mean_bmi': mean_bmi})\n",
    "    return pd.DataFrame(results)\n",
    "\n",
    "# Get BMI trends across the last 3 cycles\n",
    "cycles_to_analyze = explorer.available_cycles[:3]  # Most recent 3 cycles\n",
    "bmi_trends = get_mean_bmi_by_cycle(cycles_to_analyze)\n",
    "\n",
    "# Plot BMI trends\n",
    "if not bmi_trends.empty:\n",
    "    plt.figure(figsize=(10, 6))\n",
    "    plt.plot(bmi_trends['cycle'], bmi_trends['mean_bmi'], marker='o', linestyle='-', linewidth=2)\n",
    "    plt.title('Mean BMI Across NHANES Cycles')\n",
    "    plt.xlabel('Survey Cycle')\n",
    "    plt.ylabel('Mean BMI')\n",
    "    plt.grid(True, alpha=0.3)\n",
    "    plt.xticks(rotation=45)\n",
    "    \n",
    "    # Add value labels\n",
    "    for i, row in bmi_trends.iterrows():\n",
    "        plt.text(i, row['mean_bmi'] + 0.05, f\"{row['mean_bmi']:.2f}\", ha='center')\n",
    "    \n",
    "    # Set y-axis to start from a reasonable value for better visualization\n",
    "    plt.ylim(bottom=bmi_trends['mean_bmi'].min() - 0.5, top=bmi_trends['mean_bmi'].max() + 0.5)\n",
    "    \n",
    "    plt.tight_layout()\n",
    "    plt.show()"
   ]
  },
  {
   "cell_type": "markdown",
   "id": "0295e5ba",
   "metadata": {},
   "source": [
    "## 10. Geographical Analysis\n",
    "\n",
    "Note: NHANES doesn't provide detailed geographic data below the national level in public datasets to protect participant confidentiality. However, we can demonstrate how you might analyze such data if it were available."
   ]
  },
  {
   "cell_type": "code",
   "execution_count": null,
   "id": "a94ffa66",
   "metadata": {},
   "outputs": [],
   "source": [
    "# Simulated geographic analysis using plotly\n",
    "# (Note: This uses simulated data since NHANES doesn't provide detailed geographic information)\n",
    "\n",
    "# Create simulated data - obesity rates by state\n",
    "import random\n",
    "from urllib.request import urlopen\n",
    "import json\n",
    "\n",
    "# Try to load US states geojson for mapping\n",
    "try:\n",
    "    with urlopen('https://raw.githubusercontent.com/plotly/datasets/master/geojson-counties-fips.json') as response:\n",
    "        counties = json.load(response)\n",
    "    \n",
    "    # Simulate state-level obesity data\n",
    "    state_fips = pd.read_csv('https://raw.githubusercontent.com/kjhealy/fips-codes/master/state_fips_master.csv')\n",
    "    \n",
    "    # Generate random obesity rates (simulated data)\n",
    "    np.random.seed(42)  # For reproducibility\n",
    "    state_fips['obesity_rate'] = np.random.normal(loc=30, scale=5, size=len(state_fips))\n",
    "    state_fips['obesity_rate'] = state_fips['obesity_rate'].clip(lower=20, upper=40).round(1)\n",
    "    \n",
    "    # Create choropleth map\n",
    "    fig = px.choropleth(\n",
    "        state_fips,\n",
    "        geojson=counties,\n",
    "        locations='state_code', \n",
    "        color='obesity_rate',\n",
    "        color_continuous_scale='YlOrRd',\n",
    "        range_color=(20, 40),\n",
    "        scope=\"usa\",\n",
    "        labels={'obesity_rate':'Obesity Rate (%)'},\n",
    "        title=\"Simulated Obesity Rates by State (For Demonstration Only)\"\n",
    "    )\n",
    "    fig.update_layout(margin={\"r\":0,\"t\":30,\"l\":0,\"b\":0}, height=600)\n",
    "    fig.show()\n",
    "    \n",
    "    print(\"NOTE: The map above uses simulated data for demonstration purposes only. \")\n",
    "    print(\"NHANES does not provide public state-level estimates due to confidentiality constraints.\")\n",
    "    print(\"For actual state-level estimates, consider using BRFSS data from the CDC.\")\n",
    "    \n",
    "except Exception as e:\n",
    "    print(f\"Could not create geographic visualization: {str(e)}\")\n",
    "    print(\"Note: This requires an internet connection to fetch the GeoJSON data.\")"
   ]
  },
  {
   "cell_type": "markdown",
   "id": "3b94817d",
   "metadata": {},
   "source": [
    "## 11. Conclusion\n",
    "\n",
    "In this notebook, we've demonstrated how to use the NHANESExplorer class to download, process, and analyze NHANES data. We've explored various health metrics across demographic groups and created visualizations to better understand the data.\n",
    "\n",
    "The NHANESExplorer provides a convenient way to work with NHANES data and can be extended to support additional analyses and visualizations. For real geographic analyses, consider using complementary datasets like BRFSS (Behavioral Risk Factor Surveillance System) which provides state-level estimates."
   ]
  },
  {
   "cell_type": "markdown",
   "id": "761a9618",
   "metadata": {},
   "source": [
    "## Next Steps\n",
    "\n",
    "1. Explore additional NHANES components like dietary intake or physical activity\n",
    "2. Develop more sophisticated statistical analyses\n",
    "3. Create custom visualizations for specific research questions\n",
    "4. Implement machine learning models to predict health outcomes based on NHANES variables"
   ]
  }
 ],
 "metadata": {
  "language_info": {
   "name": "python"
  }
 },
 "nbformat": 4,
 "nbformat_minor": 5
}
