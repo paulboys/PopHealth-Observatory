{
 "cells": [
  {
   "cell_type": "markdown",
   "id": "300d9665",
   "metadata": {},
   "source": [
    "# PopHealth Observatory Exploratory Workbook\n",
    "\n",
    "This notebook provides a comprehensive, sandbox-style environment for exercising and validating functionality of the `PopHealthObservatory` / `NHANESExplorer` classes.\n",
    "\n",
    "Sections include: introspection, synthetic data generation, analytical method smoke tests, stratification, trend evaluation, visualization, edge cases, performance profiling, reproducibility, exports, quality assertions, and an end-to-end integration workflow.\n",
    "\n",
    "> Note: This workbook creates synthetic data for testing; it does not rely solely on live NHANES pulls except in optional sections."
   ]
  },
  {
   "cell_type": "markdown",
   "id": "8ca6b0bb",
   "metadata": {},
   "source": [
    "## 1. Environment & Library Imports\n",
    "\n",
    "Import core scientific, profiling, and inspection libraries plus the project modules."
   ]
  },
  {
   "cell_type": "code",
   "execution_count": 1,
   "id": "1b9e646e",
   "metadata": {},
   "outputs": [
    {
     "name": "stdout",
     "output_type": "stream",
     "text": [
      "Notebook started: 2025-09-14T09:47:31.999335Z\n",
      "Python: 3.13.7 | pandas: 2.3.2 | numpy: 2.3.3\n"
     ]
    },
    {
     "name": "stderr",
     "output_type": "stream",
     "text": [
      "C:\\Users\\User\\AppData\\Local\\Temp\\ipykernel_10924\\292755035.py:31: DeprecationWarning: datetime.datetime.utcnow() is deprecated and scheduled for removal in a future version. Use timezone-aware objects to represent datetimes in UTC: datetime.datetime.now(datetime.UTC).\n",
      "  print(f\"Notebook started: {datetime.utcnow().isoformat()}Z\")\n"
     ]
    }
   ],
   "source": [
    "# Core imports\n",
    "import os, sys, time, math, json, inspect, gc, tempfile, hashlib, statistics\n",
    "from pathlib import Path\n",
    "from datetime import datetime, timedelta\n",
    "from typing import List, Dict, Any, Callable, Optional\n",
    "\n",
    "# Data & analysis libs\n",
    "import numpy as np\n",
    "import pandas as pd\n",
    "\n",
    "# Visualization (optional imports guarded)\n",
    "try:\n",
    "    import matplotlib.pyplot as plt\n",
    "    import seaborn as sns\n",
    "except Exception as e:\n",
    "    print(f\"Matplotlib/Seaborn not available: {e}\")\n",
    "\n",
    "try:\n",
    "    import plotly.express as px\n",
    "except Exception:\n",
    "    px = None\n",
    "\n",
    "# Profiling\n",
    "import cProfile, pstats\n",
    "\n",
    "# Ensure project root on path\n",
    "ROOT = Path.cwd()\n",
    "if str(ROOT) not in sys.path:\n",
    "    sys.path.insert(0, str(ROOT))\n",
    "\n",
    "print(f\"Notebook started: {datetime.utcnow().isoformat()}Z\")\n",
    "print(f\"Python: {sys.version.split()[0]} | pandas: {pd.__version__} | numpy: {np.__version__}\")"
   ]
  },
  {
   "cell_type": "markdown",
   "id": "4cd9ce6a",
   "metadata": {},
   "source": [
    "## 2. Load or Import Observatory Classes\n",
    "Attempt to import the classes; fall back with a clear message if not available."
   ]
  },
  {
   "cell_type": "code",
   "execution_count": 2,
   "id": "b36a9369",
   "metadata": {},
   "outputs": [
    {
     "name": "stdout",
     "output_type": "stream",
     "text": [
      "Imported PopHealthObservatory & NHANESExplorer successfully.\n",
      "PopHealthObservatory available: True\n",
      "NHANESExplorer available: True\n"
     ]
    }
   ],
   "source": [
    "try:\n",
    "    from pophealth_observatory import PopHealthObservatory, NHANESExplorer\n",
    "    print(\"Imported PopHealthObservatory & NHANESExplorer successfully.\")\n",
    "except Exception as e:\n",
    "    PopHealthObservatory = None\n",
    "    NHANESExplorer = None\n",
    "    print(f\"Import failed: {e}\")\n",
    "\n",
    "print('PopHealthObservatory available:', PopHealthObservatory is not None)\n",
    "print('NHANESExplorer available:', NHANESExplorer is not None)"
   ]
  },
  {
   "cell_type": "code",
   "execution_count": 5,
   "id": "b463fb1c",
   "metadata": {},
   "outputs": [
    {
     "name": "stdout",
     "output_type": "stream",
     "text": [
      "Creating merged dataset for 2017-2018...\n",
      "Trying demographics URL: https://wwwn.cdc.gov/Nchs/Data/Nhanes/Public/2017/DataFiles/DEMO_J.xpt\n",
      "✓ Success loading demographics from: https://wwwn.cdc.gov/Nchs/Data/Nhanes/Public/2017/DataFiles/DEMO_J.xpt\n",
      "Trying BMX URL: https://wwwn.cdc.gov/Nchs/Data/Nhanes/Public/2017/DataFiles/BMX_J.xpt\n",
      "✓ Success loading BMX from: https://wwwn.cdc.gov/Nchs/Data/Nhanes/Public/2017/DataFiles/BMX_J.xpt\n",
      "Trying BPX URL: https://wwwn.cdc.gov/Nchs/Data/Nhanes/Public/2017/DataFiles/BPX_J.xpt\n",
      "✓ Success loading BPX from: https://wwwn.cdc.gov/Nchs/Data/Nhanes/Public/2017/DataFiles/BPX_J.xpt\n",
      "Merged dataset created with 9254 participants and 23 variables\n",
      "   participant_id  gender  age_years  race_ethnicity  education  \\\n",
      "0         93703.0     2.0        2.0             6.0        NaN   \n",
      "1         93704.0     1.0        2.0             3.0        NaN   \n",
      "2         93705.0     2.0       66.0             4.0        2.0   \n",
      "3         93706.0     1.0       18.0             6.0        NaN   \n",
      "4         93707.0     1.0       13.0             7.0        NaN   \n",
      "\n",
      "   poverty_ratio   exam_weight gender_label race_ethnicity_label  weight_kg  \\\n",
      "0           5.00   8539.731348       Female   Non-Hispanic Asian       13.7   \n",
      "1           5.00  42566.614750         Male   Non-Hispanic White       13.9   \n",
      "2           0.82   8338.419786       Female   Non-Hispanic Black       79.5   \n",
      "3            NaN   8723.439814         Male   Non-Hispanic Asian       66.3   \n",
      "4           1.88   7064.609730         Male   Other/Multi-racial       45.4   \n",
      "\n",
      "   ...  bmi_category  systolic_bp_1  diastolic_bp_1 systolic_bp_2  \\\n",
      "0  ...   Underweight            NaN             NaN           NaN   \n",
      "1  ...   Underweight            NaN             NaN           NaN   \n",
      "2  ...         Obese            NaN             NaN           NaN   \n",
      "3  ...        Normal          112.0            74.0         114.0   \n",
      "4  ...   Underweight          128.0            38.0         128.0   \n",
      "\n",
      "   diastolic_bp_2  systolic_bp_3  diastolic_bp_3  avg_systolic  avg_diastolic  \\\n",
      "0             NaN            NaN             NaN           NaN            NaN   \n",
      "1             NaN            NaN             NaN           NaN            NaN   \n",
      "2             NaN          202.0            62.0    202.000000      62.000000   \n",
      "3            70.0          108.0            76.0    111.333333      73.333333   \n",
      "4            46.0          128.0            58.0    128.000000      47.333333   \n",
      "\n",
      "            bp_category  \n",
      "0               Unknown  \n",
      "1               Unknown  \n",
      "2  Stage 2 Hypertension  \n",
      "3                Normal  \n",
      "4              Elevated  \n",
      "\n",
      "[5 rows x 23 columns]\n"
     ]
    }
   ],
   "source": [
    "from pophealth_observatory.observatory import NHANESExplorer\n",
    "exp = NHANESExplorer()\n",
    "merged = exp.create_merged_dataset('2017-2018')\n",
    "print(merged.head())\n"
   ]
  },
  {
   "cell_type": "code",
   "execution_count": 8,
   "id": "653e01c3",
   "metadata": {},
   "outputs": [
    {
     "name": "stdout",
     "output_type": "stream",
     "text": [
      "{'Demographics': {'XPT': 7}, 'Examination': {'XPT': 105}, 'Laboratory': {'XPT': 440}, 'Dietary': {'XPT': 79}, 'Questionnaire': {'XPT': 286}}\n"
     ]
    }
   ],
   "source": [
    "\n",
    "## Generate Manifest (XPT only, 2010-2022)\n",
    "manifest = exp.get_detailed_component_manifest(\n",
    "    as_dataframe=True,\n",
    "    year_range=(\"2010\",\"2022\"),\n",
    "    file_types=[\"XPT\"],\n",
    ")\n",
    "print(manifest['summary_counts'])"
   ]
  }
 ],
 "metadata": {
  "kernelspec": {
   "display_name": "pophealth_observatory",
   "language": "python",
   "name": "python3"
  },
  "language_info": {
   "codemirror_mode": {
    "name": "ipython",
    "version": 3
   },
   "file_extension": ".py",
   "mimetype": "text/x-python",
   "name": "python",
   "nbconvert_exporter": "python",
   "pygments_lexer": "ipython3",
   "version": "3.13.7"
  }
 },
 "nbformat": 4,
 "nbformat_minor": 5
}
