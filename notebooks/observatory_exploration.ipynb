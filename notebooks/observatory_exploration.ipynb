{
 "cells": [
  {
   "cell_type": "markdown",
   "id": "300d9665",
   "metadata": {},
   "source": [
    "# PopHealth Observatory Exploratory Workbook\n",
    "\n",
    "This notebook provides a comprehensive, sandbox-style environment for exercising and validating functionality of the `PopHealthObservatory` / `NHANESExplorer` classes.\n",
    "\n",
    "Sections include: introspection, synthetic data generation, analytical method smoke tests, stratification, trend evaluation, visualization, edge cases, performance profiling, reproducibility, exports, quality assertions, and an end-to-end integration workflow.\n",
    "\n",
    "> Note: This workbook creates synthetic data for testing; it does not rely solely on live NHANES pulls except in optional sections."
   ]
  },
  {
   "cell_type": "markdown",
   "id": "8ca6b0bb",
   "metadata": {},
   "source": [
    "## 1. Environment & Library Imports\n",
    "\n",
    "Import core scientific, profiling, and inspection libraries plus the project modules."
   ]
  },
  {
   "cell_type": "code",
   "execution_count": null,
   "id": "1b9e646e",
   "metadata": {},
   "outputs": [],
   "source": [
    "# Core imports\n",
    "import os, sys, time, math, json, inspect, gc, tempfile, hashlib, statistics\n",
    "from pathlib import Path\n",
    "from datetime import datetime, timedelta\n",
    "from typing import List, Dict, Any, Callable, Optional\n",
    "\n",
    "# Data & analysis libs\n",
    "import numpy as np\n",
    "import pandas as pd\n",
    "\n",
    "# Visualization (optional imports guarded)\n",
    "try:\n",
    "    import matplotlib.pyplot as plt\n",
    "    import seaborn as sns\n",
    "except Exception as e:\n",
    "    print(f\"Matplotlib/Seaborn not available: {e}\")\n",
    "\n",
    "try:\n",
    "    import plotly.express as px\n",
    "except Exception:\n",
    "    px = None\n",
    "\n",
    "# Profiling\n",
    "import cProfile, pstats\n",
    "\n",
    "# Ensure project root on path\n",
    "ROOT = Path.cwd()\n",
    "if str(ROOT) not in sys.path:\n",
    "    sys.path.insert(0, str(ROOT))\n",
    "\n",
    "print(f\"Notebook started: {datetime.utcnow().isoformat()}Z\")\n",
    "print(f\"Python: {sys.version.split()[0]} | pandas: {pd.__version__} | numpy: {np.__version__}\")"
   ]
  },
  {
   "cell_type": "markdown",
   "id": "4cd9ce6a",
   "metadata": {},
   "source": [
    "## 2. Load or Import Observatory Classes\n",
    "Attempt to import the classes; fall back with a clear message if not available."
   ]
  },
  {
   "cell_type": "code",
   "execution_count": null,
   "id": "b36a9369",
   "metadata": {},
   "outputs": [],
   "source": [
    "try:\n",
    "    from pophealth_observatory import PopHealthObservatory, NHANESExplorer\n",
    "    print(\"Imported PopHealthObservatory & NHANESExplorer successfully.\")\n",
    "except Exception as e:\n",
    "    PopHealthObservatory = None\n",
    "    NHANESExplorer = None\n",
    "    print(f\"Import failed: {e}\")\n",
    "\n",
    "print('PopHealthObservatory available:', PopHealthObservatory is not None)\n",
    "print('NHANESExplorer available:', NHANESExplorer is not None)"
   ]
  },
  {
   "cell_type": "code",
   "execution_count": 3,
   "id": "b463fb1c",
   "metadata": {},
   "outputs": [
    {
     "name": "stdout",
     "output_type": "stream",
     "text": [
      "Collecting observatory\n",
      "  Downloading observatory-2.0.0-py3-none-any.whl.metadata (5.9 kB)\n",
      "Downloading observatory-2.0.0-py3-none-any.whl (13 kB)\n",
      "Installing collected packages: observatory\n",
      "Successfully installed observatory-2.0.0\n",
      "Note: you may need to restart the kernel to use updated packages.\n"
     ]
    },
    {
     "ename": "ImportError",
     "evalue": "cannot import name 'EnhancedNHANESExplorer' from 'observatory' (c:\\Users\\User\\miniforge3\\envs\\pophealth_observatory\\Lib\\site-packages\\observatory\\__init__.py)",
     "output_type": "error",
     "traceback": [
      "\u001b[31m---------------------------------------------------------------------------\u001b[39m",
      "\u001b[31mImportError\u001b[39m                               Traceback (most recent call last)",
      "\u001b[36mCell\u001b[39m\u001b[36m \u001b[39m\u001b[32mIn[3]\u001b[39m\u001b[32m, line 3\u001b[39m\n\u001b[32m      1\u001b[39m get_ipython().run_line_magic(\u001b[33m'\u001b[39m\u001b[33mpip\u001b[39m\u001b[33m'\u001b[39m, \u001b[33m'\u001b[39m\u001b[33minstall observatory\u001b[39m\u001b[33m'\u001b[39m)\n\u001b[32m----> \u001b[39m\u001b[32m3\u001b[39m \u001b[38;5;28;01mfrom\u001b[39;00m\u001b[38;5;250m \u001b[39m\u001b[34;01mobservatory\u001b[39;00m\u001b[38;5;250m \u001b[39m\u001b[38;5;28;01mimport\u001b[39;00m EnhancedNHANESExplorer\n\u001b[32m      4\u001b[39m \u001b[38;5;66;03m# Initialize the explorer (automatically scans all data directories)\u001b[39;00m\n\u001b[32m      5\u001b[39m explorer = EnhancedNHANESExplorer()\n",
      "\u001b[31mImportError\u001b[39m: cannot import name 'EnhancedNHANESExplorer' from 'observatory' (c:\\Users\\User\\miniforge3\\envs\\pophealth_observatory\\Lib\\site-packages\\observatory\\__init__.py)"
     ]
    }
   ],
   "source": [
    "%pip install observatory\n",
    "\n",
    "from observatory import EnhancedNHANESExplorer\n",
    "# Initialize the explorer (automatically scans all data directories)\n",
    "explorer = EnhancedNHANESExplorer()\n",
    "\n",
    "# Load all demographics data from all cycles\n",
    "all_demo = explorer.get_demographics_data()\n",
    "\n",
    "# Load body measures for a specific cycle\n",
    "body_2015 = explorer.get_body_measures('2015-2016')\n",
    "\n",
    "# Create a merged dataset with multiple components\n",
    "merged_dataset = create_merged_dataset(explorer, '2015-2016')"
   ]
  }
 ],
 "metadata": {
  "kernelspec": {
   "display_name": "pophealth_observatory",
   "language": "python",
   "name": "python3"
  },
  "language_info": {
   "codemirror_mode": {
    "name": "ipython",
    "version": 3
   },
   "file_extension": ".py",
   "mimetype": "text/x-python",
   "name": "python",
   "nbconvert_exporter": "python",
   "pygments_lexer": "ipython3",
   "version": "3.13.7"
  }
 },
 "nbformat": 4,
 "nbformat_minor": 5
}
